{
 "cells": [
  {
   "cell_type": "code",
   "execution_count": 3,
   "id": "0d99e886-c7da-467e-a777-737cac930cb1",
   "metadata": {},
   "outputs": [
    {
     "name": "stdout",
     "output_type": "stream",
     "text": [
      "Majority-class baseline: 0 accuracy: 0.75045\n",
      "{'accuracy': 0.81, 'precision': 0.6685552407932012, 'recall': 0.4729458917835671, 'f1': 0.5539906103286385, 'roc_auc': 0.8378228809384259, 'confusion_matrix': [[2768, 234], [526, 472]]}\n",
      "Saved model to ../saved_models/baseline_logreg.pkl\n"
     ]
    }
   ],
   "source": [
    "# 1. Load libraries\n",
    "import pandas as pd\n",
    "from sklearn.model_selection import train_test_split\n",
    "from sklearn.pipeline import Pipeline\n",
    "from sklearn.preprocessing import StandardScaler, OneHotEncoder\n",
    "from sklearn.compose import ColumnTransformer\n",
    "from sklearn.linear_model import LogisticRegression\n",
    "from sklearn.metrics import accuracy_score, precision_score, recall_score, f1_score, confusion_matrix, roc_auc_score\n",
    "import pickle\n",
    "\n",
    "# 2. Load processed data\n",
    "df = pd.read_csv('/Users/tamanna/Documents/mlproject/task1/data/processed/online_course_completion_clean.csv')\n",
    "\n",
    "# 2a. Sample for baseline to save memory & time\n",
    "df = df.sample(20000, random_state=42)\n",
    "\n",
    "# 3. Baseline: majority class\n",
    "y = df['completed_course']\n",
    "majority = y.mode()[0]\n",
    "baseline_acc = (y == majority).mean()\n",
    "print(\"Majority-class baseline:\", majority, \"accuracy:\", baseline_acc)\n",
    "\n",
    "# 4. Features & target\n",
    "X = df.drop(columns=['completed_course'])\n",
    "y = df['completed_course']\n",
    "\n",
    "# 5. Split\n",
    "X_train, X_test, y_train, y_test = train_test_split(\n",
    "    X, y, test_size=0.20, random_state=42, stratify=y\n",
    ")\n",
    "\n",
    "# 6. Numeric & categorical columns\n",
    "num_cols = X.select_dtypes(include=['int64', 'float64']).columns\n",
    "cat_cols = X.select_dtypes(include=['object']).columns\n",
    "\n",
    "# 7. Preprocessing\n",
    "preprocessor = ColumnTransformer([\n",
    "    ('num', StandardScaler(), num_cols),\n",
    "    ('cat', OneHotEncoder(handle_unknown='ignore'), cat_cols)\n",
    "])\n",
    "\n",
    "# 8. Pipeline\n",
    "pipe = Pipeline([\n",
    "    ('preprocessor', preprocessor),\n",
    "    ('clf', LogisticRegression(solver='liblinear', random_state=42))\n",
    "])\n",
    "\n",
    "# 9. Train\n",
    "pipe.fit(X_train, y_train)\n",
    "\n",
    "# 10. Predict\n",
    "y_pred = pipe.predict(X_test)\n",
    "y_proba = pipe.predict_proba(X_test)[:, 1]\n",
    "\n",
    "# 11. Evaluation\n",
    "metrics = {\n",
    "    'accuracy': accuracy_score(y_test, y_pred),\n",
    "    'precision': precision_score(y_test, y_pred),\n",
    "    'recall': recall_score(y_test, y_pred),\n",
    "    'f1': f1_score(y_test, y_pred),\n",
    "    'roc_auc': roc_auc_score(y_test, y_proba),\n",
    "    'confusion_matrix': confusion_matrix(y_test, y_pred).tolist()\n",
    "}\n",
    "print(metrics)\n",
    "\n",
    "# 12. Save model as .pkl\n",
    "with open('../saved_models/baseline_logreg.pkl', 'wb') as f:\n",
    "    pickle.dump(pipe, f)\n",
    "\n",
    "print(\"Saved model to ../saved_models/baseline_logreg.pkl\")"
   ]
  },
  {
   "cell_type": "code",
   "execution_count": null,
   "id": "c9ed9b12-e5ca-49f0-8cf5-3b4a91237eb1",
   "metadata": {},
   "outputs": [],
   "source": []
  }
 ],
 "metadata": {
  "kernelspec": {
   "display_name": "Python [conda env:base] *",
   "language": "python",
   "name": "conda-base-py"
  },
  "language_info": {
   "codemirror_mode": {
    "name": "ipython",
    "version": 3
   },
   "file_extension": ".py",
   "mimetype": "text/x-python",
   "name": "python",
   "nbconvert_exporter": "python",
   "pygments_lexer": "ipython3",
   "version": "3.12.7"
  }
 },
 "nbformat": 4,
 "nbformat_minor": 5
}
